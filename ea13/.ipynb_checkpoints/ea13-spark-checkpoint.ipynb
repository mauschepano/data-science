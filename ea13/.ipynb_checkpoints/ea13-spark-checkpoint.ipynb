{
 "cells": [
  {
   "cell_type": "code",
   "execution_count": 29,
   "metadata": {},
   "outputs": [
    {
     "name": "stdout",
     "output_type": "stream",
     "text": [
      "\t27362:\tthe \n",
      "\t26028:\tand \n",
      "\t20681:\ti \n",
      "\t19150:\tto \n",
      "\t17466:\tof \n",
      "\t14593:\ta \n",
      "\t13615:\tyou \n",
      "\t12480:\tmy \n",
      "\t10956:\tin \n",
      "\t10890:\tthat \n",
      "\t9134:\tis \n",
      "\t8497:\tnot \n",
      "\t7771:\twith \n",
      "\t7768:\tme \n",
      "\t7678:\tit \n",
      "\t7558:\tfor \n",
      "\t6857:\this \n",
      "\t6857:\tbe \n",
      "\t6655:\tyour \n",
      "\t6603:\tthis \n",
      "\t6265:\tbut \n",
      "\t6251:\the \n",
      "\t5880:\thave \n",
      "\t5733:\tas \n",
      "\t5485:\tthou \n"
     ]
    }
   ],
   "source": [
    "# To find out where the pyspark\n",
    "import os\n",
    "import re\n",
    "import string\n",
    "from pyspark import SparkContext\n",
    "sc = SparkContext.getOrCreate();\n",
    "\n",
    "file_path = './assets/shakespeare.txt'\n",
    "\n",
    "def removePunctuation(text):\n",
    "    no_puntuation = re.sub('[%s]' % re.escape(string.punctuation), '', text)\n",
    "    no_multiple_whitespaces = re.sub(' +', ' ', no_puntuation)\n",
    "    lowercase = no_puntuation.lower()\n",
    "    trimmed = lowercase.strip()\n",
    "    text_file = trimmed.split()\n",
    "    return text_file\n",
    "\n",
    "text_file = sc.textFile(file_path)\n",
    "words = text_file.flatMap(removePunctuation)\n",
    "\n",
    "\n",
    "words \n",
    "counts = words.countByValue()\n",
    "sorted_counts = sorted(counts.items(), key=lambda x: x[1], reverse=True)\n",
    "\n",
    "for i in range(25):\n",
    "    word, count = sorted_counts[i]\n",
    "    print(f'\\t{count}:\\t{word} ')\n"
   ]
  },
  {
   "cell_type": "code",
   "execution_count": 30,
   "metadata": {},
   "outputs": [
    {
     "name": "stdout",
     "output_type": "stream",
     "text": [
      "The twenty-fourth most common word is:\t\"as\" (5733 times)\n"
     ]
    }
   ],
   "source": [
    "# index starts at 0, that's why we are looking for index 24-1\n",
    "word_24, count_24 = sorted_counts[24-1]\n",
    "print(f'The twenty-fourth most common word is:\\t\"{word_24}\" ({count_24} times)')\n"
   ]
  },
  {
   "cell_type": "code",
   "execution_count": null,
   "metadata": {},
   "outputs": [],
   "source": []
  }
 ],
 "metadata": {
  "kernelspec": {
   "display_name": "Python 3",
   "language": "python",
   "name": "python3"
  },
  "language_info": {
   "codemirror_mode": {
    "name": "ipython",
    "version": 3
   },
   "file_extension": ".py",
   "mimetype": "text/x-python",
   "name": "python",
   "nbconvert_exporter": "python",
   "pygments_lexer": "ipython3",
   "version": "3.8.3"
  }
 },
 "nbformat": 4,
 "nbformat_minor": 4
}
