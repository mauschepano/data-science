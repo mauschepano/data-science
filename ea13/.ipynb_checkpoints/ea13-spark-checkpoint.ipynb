{
 "cells": [
  {
   "cell_type": "code",
   "execution_count": 5,
   "metadata": {},
   "outputs": [
    {
     "name": "stdout",
     "output_type": "stream",
     "text": [
      "\t27462:\tthe \n",
      "\t19582:\tto \n",
      "\t19104:\tof \n",
      "\t18496:\tand \n",
      "\t14664:\ta \n",
      "\t12229:\ti \n",
      "\t11473:\tyou \n",
      "\t11094:\tin \n",
      "\t10878:\tmy \n",
      "\t10130:\tthat \n",
      "\t9310:\tis \n",
      "\t8451:\tnot \n",
      "\t7831:\twith \n",
      "\t7172:\this \n",
      "\t7170:\tme \n",
      "\t7094:\tbe \n",
      "\t6910:\tyour \n",
      "\t6640:\tit \n",
      "\t6385:\tfor \n",
      "\t6238:\thave \n",
      "\t6067:\tthis \n",
      "\t5202:\tas \n",
      "\t5149:\the \n",
      "\t5010:\twill \n",
      "\t4879:\thim \n"
     ]
    }
   ],
   "source": [
    "# To find out where the pyspark\n",
    "import os\n",
    "from pyspark import SparkContext\n",
    "sc = SparkContext.getOrCreate();\n",
    "file_path = './assets/shakespeare_cleaned.txt'\n",
    "punctuations = ['.', ',', '!', '?', ':', '(',')','[',']',';','\"','\\'']\n",
    "\n",
    "def cleanInput(text_file):\n",
    "    \n",
    "    for punctuation in punctuations:\n",
    "        text_file = text_file.replace(punctuation, '')\n",
    "\n",
    "    text_file = text_file.split()\n",
    "    return text_file\n",
    "\n",
    "text_file = sc.textFile(file_path)\n",
    "words = text_file.flatMap(cleanInput)\n",
    "\n",
    "counts = words.countByValue()\n",
    "sorted_counts = sorted(counts.items(), key=lambda x: x[1], reverse=True)\n",
    "\n",
    "for i in range(25):\n",
    "    word, count = sorted_counts[i]\n",
    "    print(f'\\t{count}:\\t{word} ')"
   ]
  },
  {
   "cell_type": "code",
   "execution_count": 9,
   "metadata": {},
   "outputs": [
    {
     "ename": "SyntaxError",
     "evalue": "invalid syntax (<fstring>, line 1)",
     "output_type": "error",
     "traceback": [
      "\u001b[0;36m  File \u001b[0;32m\"<fstring>\"\u001b[0;36m, line \u001b[0;32m1\u001b[0m\n\u001b[0;31m    (count_24 times)\u001b[0m\n\u001b[0m              ^\u001b[0m\n\u001b[0;31mSyntaxError\u001b[0m\u001b[0;31m:\u001b[0m invalid syntax\n"
     ]
    }
   ],
   "source": [
    "# i starts at 0, that's why we are looking for index 24-1\n",
    "word_24, count_24 = sorted_counts[24-1]\n",
    "print(f'The twenty-fourth most common word is:\\t\"{word_24}\" ({count_24}times)')\n"
   ]
  },
  {
   "cell_type": "code",
   "execution_count": null,
   "metadata": {},
   "outputs": [],
   "source": []
  }
 ],
 "metadata": {
  "kernelspec": {
   "display_name": "Python 3",
   "language": "python",
   "name": "python3"
  }
 },
 "nbformat": 4,
 "nbformat_minor": 4
}
