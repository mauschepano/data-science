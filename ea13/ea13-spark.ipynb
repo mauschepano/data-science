{
 "cells": [
  {
   "cell_type": "code",
   "execution_count": 28,
   "metadata": {},
   "outputs": [
    {
     "name": "stdout",
     "output_type": "stream",
     "text": [
      "\t27379:\tthe \n",
      "\t26084:\tand \n",
      "\t22538:\ti \n",
      "\t19771:\tto \n",
      "\t17484:\tof \n",
      "\t14725:\ta \n",
      "\t13826:\tyou \n",
      "\t12489:\tmy \n",
      "\t11318:\tthat \n",
      "\t11112:\tin \n",
      "\t9319:\tis \n",
      "\t8960:\td \n",
      "\t8512:\tnot \n",
      "\t7791:\twith \n",
      "\t7777:\tme \n",
      "\t7725:\tit \n",
      "\t7721:\ts \n",
      "\t7655:\tfor \n",
      "\t6897:\tbe \n",
      "\t6859:\this \n",
      "\t6679:\the \n",
      "\t6657:\tyour \n",
      "\t6609:\tthis \n",
      "\t6277:\tbut \n",
      "\t5902:\thave \n"
     ]
    }
   ],
   "source": [
    "# To find out where the pyspark\n",
    "import os\n",
    "import re\n",
    "import string\n",
    "from pyspark import SparkContext\n",
    "sc = SparkContext.getOrCreate();\n",
    "\n",
    "file_path = './assets/shakespeare.txt'\n",
    "\n",
    "def removePunctuation(text):\n",
    "    no_puntuation = re.sub('[%s]' % re.escape(string.punctuation), '', text)\n",
    "    no_multiple_whitespaces = re.sub(' +', ' ', no_puntuation)\n",
    "    lowercase = no_puntuation.lower()\n",
    "    trimmed = lowercase.strip()\n",
    "    text_file = trimmed.split()\n",
    "    return text_file\n",
    "\n",
    "text_file = sc.textFile(file_path)\n",
    "words = text_file.flatMap(removePunctuation)\n",
    "\n",
    "\n",
    "words \n",
    "counts = words.countByValue()\n",
    "sorted_counts = sorted(counts.items(), key=lambda x: x[1], reverse=True)\n",
    "\n",
    "for i in range(25):\n",
    "    word, count = sorted_counts[i]\n",
    "    print(f'\\t{count}:\\t{word} ')\n"
   ]
  },
  {
   "cell_type": "code",
   "execution_count": 27,
   "metadata": {},
   "outputs": [
    {
     "name": "stdout",
     "output_type": "stream",
     "text": [
      "The twenty-fourth most common word is:\t\"but\" (6277 times)\n"
     ]
    }
   ],
   "source": [
    "# index starts at 0, that's why we are looking for index 24-1\n",
    "word_24, count_24 = sorted_counts[24-1]\n",
    "print(f'The twenty-fourth most common word is:\\t\"{word_24}\" ({count_24} times)')\n"
   ]
  }
 ],
 "metadata": {
  "kernelspec": {
   "display_name": "Python 3",
   "language": "python",
   "name": "python3"
  },
  "language_info": {
   "codemirror_mode": {
    "name": "ipython",
    "version": 3
   },
   "file_extension": ".py",
   "mimetype": "text/x-python",
   "name": "python",
   "nbconvert_exporter": "python",
   "pygments_lexer": "ipython3",
   "version": "3.8.3"
  }
 },
 "nbformat": 4,
 "nbformat_minor": 4
}
